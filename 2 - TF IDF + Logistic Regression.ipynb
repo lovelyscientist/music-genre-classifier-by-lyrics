{
 "cells": [
  {
   "cell_type": "code",
   "execution_count": 33,
   "id": "cc03ebb2",
   "metadata": {},
   "outputs": [],
   "source": [
    "import time\n",
    "import os.path\n",
    "import pickle\n",
    "import pandas as pd\n",
    "import mlflow\n",
    "import numpy as np\n",
    "from scipy.stats import uniform\n",
    "from mlflow.models import infer_signature\n",
    "from sklearn import set_config\n",
    "from sklearn.feature_selection import r_regression\n",
    "from sklearn.metrics import f1_score, classification_report, confusion_matrix, ConfusionMatrixDisplay\n",
    "from sklearn.decomposition import TruncatedSVD\n",
    "from sklearn.model_selection import cross_val_score, train_test_split\n",
    "from sklearn.feature_extraction.text import TfidfVectorizer\n",
    "from sklearn.linear_model import LogisticRegression\n",
    "from sklearn.model_selection import RandomizedSearchCV\n",
    "from sklearn.pipeline import Pipeline"
   ]
  },
  {
   "cell_type": "code",
   "execution_count": 2,
   "id": "0133cef0",
   "metadata": {},
   "outputs": [],
   "source": [
    "dataset = pd.read_csv('data/processed_english_lyrics.csv')"
   ]
  },
  {
   "cell_type": "code",
   "execution_count": 3,
   "id": "9e6923cc",
   "metadata": {},
   "outputs": [
    {
     "data": {
      "text/plain": [
       "Index(['title', 'tag', 'artist', 'year', 'views', 'features', 'lyrics', 'id',\n",
       "       'language_cld3', 'language_ft', 'language', 'artist_tag_combination'],\n",
       "      dtype='object')"
      ]
     },
     "execution_count": 3,
     "metadata": {},
     "output_type": "execute_result"
    }
   ],
   "source": [
    "dataset = dataset[~dataset['lyrics'].isna()]\n",
    "dataset['artist_tag_combination'] = dataset['artist'] + \"#____#\"+ dataset['tag']\n",
    "dataset.columns"
   ]
  },
  {
   "cell_type": "code",
   "execution_count": 4,
   "id": "caeeef8a",
   "metadata": {},
   "outputs": [
    {
     "data": {
      "text/plain": [
       "tag\n",
       "pop        1297956\n",
       "rap         936110\n",
       "rock        602160\n",
       "rb          147248\n",
       "country      83609\n",
       "Name: count, dtype: int64"
      ]
     },
     "execution_count": 4,
     "metadata": {},
     "output_type": "execute_result"
    }
   ],
   "source": [
    "dataset['tag'].value_counts()"
   ]
  },
  {
   "cell_type": "markdown",
   "id": "09aa5a3e",
   "metadata": {},
   "source": [
    "In this part we will use classical NLP methods for text classification:  \n",
    "1) vectorize documents (lyrics) using TF-IDF vectorization method  \n",
    "2) classify document vectors with Logistic Regression  "
   ]
  },
  {
   "cell_type": "markdown",
   "id": "fef2db9a",
   "metadata": {},
   "source": [
    "### Lyrics vectorization"
   ]
  },
  {
   "cell_type": "markdown",
   "id": "a044406d",
   "metadata": {},
   "source": [
    "TF-IDF vectorization a.k.a term frequence inverse document frequency encodes each unique word in the vocabulary with a real number from 0 to 1. The formula $tf*idf$.  \n",
    "$tf$ - term frequency is calculated per document to identify how often word appears in the document  \n",
    "$idf$ - inverse document frequency = $\\dfrac{1}{frequency}$ of word across all documents  "
   ]
  },
  {
   "cell_type": "code",
   "execution_count": 5,
   "id": "2d37fca9",
   "metadata": {},
   "outputs": [],
   "source": [
    "X, y = dataset['lyrics'], dataset['tag']"
   ]
  },
  {
   "cell_type": "code",
   "execution_count": 6,
   "id": "2f7d91c5",
   "metadata": {},
   "outputs": [],
   "source": [
    "def train_test_split_stratified_artist(df: pd.DataFrame, test_size: float = 0.10) -> tuple[pd.DataFrame, pd.Series, pd.Series]:\n",
    "    \"\"\"Function that splits the dataset in stratified fashion by artist to save tags distribution\"\"\"\n",
    "    artist_tag_unique = sorted(df['artist_tag_combination'].unique())\n",
    "    tags_list = list(map(lambda c: c.split(\"#____#\")[1], artist_tag_unique))\n",
    "    artist_tag_train, _, _, _ = train_test_split(artist_tag_unique,\n",
    "                                                    tags_list,\n",
    "                                                    test_size=test_size,\n",
    "                                                    random_state=42,\n",
    "                                                    stratify=tags_list)\n",
    "    train_df = df[df['artist_tag_combination'].isin(artist_tag_train)]\n",
    "    test_df = df[~df['artist_tag_combination'].isin(artist_tag_train)]\n",
    "    X_test, y_test = test_df['lyrics'], test_df['tag']\n",
    "    return (train_df, X_test, y_test)"
   ]
  },
  {
   "cell_type": "markdown",
   "id": "d0d354e5",
   "metadata": {},
   "source": [
    "#### Splitting data into 10/20/70 for test, validation and train datasets"
   ]
  },
  {
   "cell_type": "code",
   "execution_count": 7,
   "id": "7077e1d9",
   "metadata": {},
   "outputs": [],
   "source": [
    "train_validation_df, X_test, y_test = train_test_split_stratified_artist(dataset)\n",
    "train_df, X_valid, y_valid = train_test_split_stratified_artist(train_validation_df, test_size=0.22)\n",
    "X_train, y_train = train_df['lyrics'], train_df['tag']"
   ]
  },
  {
   "cell_type": "code",
   "execution_count": 8,
   "id": "5f4b04c4",
   "metadata": {},
   "outputs": [],
   "source": [
    "del train_validation_df\n",
    "del train_df"
   ]
  },
  {
   "cell_type": "code",
   "execution_count": 9,
   "id": "5f75d8bb",
   "metadata": {},
   "outputs": [
    {
     "name": "stdout",
     "output_type": "stream",
     "text": [
      "test len:  307203 307203\n",
      "valid len:  608271 608271\n",
      "train len:  2151609 2151609\n"
     ]
    }
   ],
   "source": [
    "print('test len: ', len(X_test), len(y_test))\n",
    "print('valid len: ', len(X_valid), len(y_valid))\n",
    "print('train len: ', len(X_train), len(y_train))"
   ]
  },
  {
   "cell_type": "markdown",
   "id": "d2474a84",
   "metadata": {},
   "source": [
    "#### Testing pipeline parts individually and finding best hyper parameters. Than combining into one prediction pipeline."
   ]
  },
  {
   "cell_type": "code",
   "execution_count": 34,
   "id": "11204b75",
   "metadata": {},
   "outputs": [],
   "source": [
    "VECTORIZER_NAME = 'vectorizer.pk'\n",
    "SVD_NAME = 'svd.pk'\n",
    "CLASSIFIER_NAME = 'logistic_regression.pk'\n",
    "vectorizer_file_exists = os.path.isfile(VECTORIZER_NAME)\n",
    "svd_file_exists = os.path.isfile(SVD_NAME)"
   ]
  },
  {
   "cell_type": "markdown",
   "id": "ad47ab1b",
   "metadata": {},
   "source": [
    "Vectorizing text with TF-IDF"
   ]
  },
  {
   "cell_type": "code",
   "execution_count": 11,
   "id": "c229888e",
   "metadata": {},
   "outputs": [
    {
     "name": "stdout",
     "output_type": "stream",
     "text": [
      "(2151609, 200000)\n",
      "CPU times: user 4min 52s, sys: 15 s, total: 5min 7s\n",
      "Wall time: 5min 29s\n"
     ]
    }
   ],
   "source": [
    "%%time\n",
    "if not vectorizer_file_exists:\n",
    "    start_time = time.time()\n",
    "    vectorizer = TfidfVectorizer(stop_words='english',\n",
    "                                 ngram_range=(1,2),\n",
    "                                 max_features=200000,\n",
    "                                 sublinear_tf=True,\n",
    "                                 use_idf=True\n",
    "                                )\n",
    "    X_train_vectorized = vectorizer.fit_transform(X_train)\n",
    "    with open(VECTORIZER_NAME, 'wb') as f:\n",
    "        pickle.dump(vectorizer, f)\n",
    "else:\n",
    "    with open(VECTORIZER_NAME, 'rb') as f:\n",
    "        vectorizer = pickle.load(f)\n",
    "        X_train_vectorized = vectorizer.transform(X_train)\n",
    "        \n",
    "print(X_train_vectorized.shape)"
   ]
  },
  {
   "cell_type": "markdown",
   "id": "e2f2a42f",
   "metadata": {},
   "source": [
    "Reducing dimensionality and sparsity with SVD"
   ]
  },
  {
   "cell_type": "code",
   "execution_count": 15,
   "id": "edb539f8",
   "metadata": {},
   "outputs": [
    {
     "name": "stdout",
     "output_type": "stream",
     "text": [
      "0.07229114989985684\n",
      "(2151609, 200)\n",
      "CPU times: user 12min 42s, sys: 2min 15s, total: 14min 58s\n",
      "Wall time: 12min 28s\n"
     ]
    }
   ],
   "source": [
    "%%time\n",
    "if not svd_file_exists:  \n",
    "    svd = TruncatedSVD(n_components=200, n_iter=5, random_state=42)\n",
    "    X_train_reduced = svd.fit_transform(X_train_vectorized)\n",
    "    with open(SVD_NAME, 'wb') as f:\n",
    "        pickle.dump(svd, f)\n",
    "else:\n",
    "    with open(SVD_NAME, 'rb') as f:\n",
    "        svd = pickle.load(f)\n",
    "    X_train_reduced = svd.transform(X_train_vectorized)\n",
    "    \n",
    "print(svd.explained_variance_ratio_.sum())\n",
    "print(X_train_reduced.shape)"
   ]
  },
  {
   "cell_type": "code",
   "execution_count": 17,
   "id": "d07256c8",
   "metadata": {},
   "outputs": [
    {
     "name": "stdout",
     "output_type": "stream",
     "text": [
      "CPU times: user 1min 30s, sys: 4.97 s, total: 1min 35s\n",
      "Wall time: 2min 6s\n"
     ]
    }
   ],
   "source": [
    "%%time\n",
    "X_valid_vectorized = vectorizer.transform(X_valid)\n",
    "X_valid_reduced = svd.transform(X_valid_vectorized)"
   ]
  },
  {
   "cell_type": "markdown",
   "id": "f41c5e2a",
   "metadata": {},
   "source": [
    "Training Logistic Regression Model, for now hyperparameters are not optimized"
   ]
  },
  {
   "cell_type": "code",
   "execution_count": 23,
   "id": "ded48ccb",
   "metadata": {},
   "outputs": [
    {
     "name": "stdout",
     "output_type": "stream",
     "text": [
      "Fitting 2 folds for each of 10 candidates, totalling 20 fits\n",
      "[CV 1/2] END ..C=1.49816047538945, l1_ratio=0.8;, score=0.440 total time= 4.9min\n",
      "[CV 2/2] END ..C=1.49816047538945, l1_ratio=0.8;, score=0.425 total time= 6.1min\n",
      "[CV 1/2] END C=0.7337391594646552, l1_ratio=0.8;, score=0.440 total time= 3.3min\n",
      "[CV 2/2] END C=0.7337391594646552, l1_ratio=0.8;, score=0.425 total time= 4.0min\n",
      "[CV 1/2] END .C=2.387400631785948, l1_ratio=0.2;, score=0.440 total time= 3.3min\n",
      "[CV 2/2] END .C=2.387400631785948, l1_ratio=0.2;, score=0.425 total time= 3.9min\n",
      "[CV 1/2] END C=0.6239780813448106, l1_ratio=0.4;, score=0.440 total time= 3.4min\n",
      "[CV 2/2] END C=0.6239780813448106, l1_ratio=0.4;, score=0.425 total time= 4.0min\n",
      "[CV 1/2] END C=1.8369955678634686, l1_ratio=0.8;, score=0.440 total time= 5.1min\n",
      "[CV 2/2] END C=1.8369955678634686, l1_ratio=0.8;, score=0.425 total time= 7.1min\n",
      "[CV 1/2] END .C=2.404460046972835, l1_ratio=0.4;, score=0.440 total time= 3.5min\n",
      "[CV 2/2] END .C=2.404460046972835, l1_ratio=0.4;, score=0.425 total time= 4.0min\n",
      "[CV 1/2] END C=0.08233797718320979, l1_ratio=0.2;, score=0.438 total time= 3.3min\n",
      "[CV 2/2] END C=0.08233797718320979, l1_ratio=0.2;, score=0.424 total time= 3.9min\n",
      "[CV 1/2] END .C=2.887995089067299, l1_ratio=0.2;, score=0.440 total time= 3.2min\n",
      "[CV 2/2] END .C=2.887995089067299, l1_ratio=0.2;, score=0.425 total time= 3.9min\n",
      "[CV 1/2] END C=0.7272998688284025, l1_ratio=0.8;, score=0.440 total time= 3.3min\n",
      "[CV 2/2] END C=0.7272998688284025, l1_ratio=0.8;, score=0.425 total time= 4.0min\n",
      "[CV 1/2] END .C=2.469926038510866, l1_ratio=0.2;, score=0.440 total time= 3.3min\n",
      "[CV 2/2] END .C=2.469926038510866, l1_ratio=0.2;, score=0.425 total time= 3.9min\n",
      "CPU times: user 1h 26min 48s, sys: 1min 39s, total: 1h 28min 28s\n",
      "Wall time: 1h 28min 20s\n"
     ]
    },
    {
     "data": {
      "text/plain": [
       "{'C': 2.887995089067299, 'l1_ratio': 0.2}"
      ]
     },
     "execution_count": 23,
     "metadata": {},
     "output_type": "execute_result"
    }
   ],
   "source": [
    "%%time\n",
    "distributions = dict(C=uniform(loc=0, scale=4),\n",
    "                     l1_ratio=np.arange(0, 1, 0.2))\n",
    "classifier = LogisticRegression(penalty='elasticnet',\n",
    "                                class_weight='balanced',\n",
    "                                solver='saga',\n",
    "                                random_state=42,\n",
    "                                warm_start=True,\n",
    "                                n_jobs=-1)\n",
    "clf = RandomizedSearchCV(classifier,\n",
    "                         distributions,\n",
    "                         random_state=42,\n",
    "                         scoring='f1_macro',\n",
    "                         cv=2,\n",
    "                         verbose=3\n",
    "                        )\n",
    "search = clf.fit(np.concatenate([X_train_reduced,X_valid_reduced]), np.concatenate([y_train,y_valid]))\n",
    "search.best_params_"
   ]
  },
  {
   "cell_type": "code",
   "execution_count": 24,
   "id": "4816af11",
   "metadata": {},
   "outputs": [
    {
     "name": "stdout",
     "output_type": "stream",
     "text": [
      "Execution time:  5.46710840066274 m\n",
      "0.512068410199065\n"
     ]
    }
   ],
   "source": [
    "start_time = time.time()\n",
    "classifier = LogisticRegression(penalty='elasticnet',\n",
    "                                class_weight='balanced',\n",
    "                                solver='saga',\n",
    "                                random_state=42,\n",
    "                                warm_start=True,\n",
    "                                n_jobs=-1,\n",
    "                                l1_ratio=0.2,\n",
    "                                C = 3)\n",
    "classifier.fit(X_train_reduced, y_train)\n",
    "print('Execution time: ', str((time.time()-start_time)/60), 'm')\n",
    "print(classifier.score(X_train_reduced, y_train))"
   ]
  },
  {
   "cell_type": "code",
   "execution_count": 35,
   "id": "92400a07",
   "metadata": {},
   "outputs": [],
   "source": [
    "with open(CLASSIFIER_NAME, 'wb') as f:\n",
    "    pickle.dump(classifier, f)"
   ]
  },
  {
   "cell_type": "markdown",
   "id": "ad3a56a7",
   "metadata": {},
   "source": [
    "Transforming test dataset"
   ]
  },
  {
   "cell_type": "code",
   "execution_count": 36,
   "id": "6bf5fce4",
   "metadata": {},
   "outputs": [
    {
     "name": "stdout",
     "output_type": "stream",
     "text": [
      "CPU times: user 46.3 s, sys: 3.57 s, total: 49.9 s\n",
      "Wall time: 1min 13s\n"
     ]
    }
   ],
   "source": [
    "%%time\n",
    "X_test_vectorized = vectorizer.transform(X_test)\n",
    "X_test_reduced = svd.transform(X_test_vectorized)"
   ]
  },
  {
   "cell_type": "code",
   "execution_count": 37,
   "id": "4ef6fa09",
   "metadata": {},
   "outputs": [
    {
     "name": "stdout",
     "output_type": "stream",
     "text": [
      "              precision    recall  f1-score   support\n",
      "\n",
      "     country       0.12      0.66      0.21      8245\n",
      "         pop       0.66      0.25      0.36    124753\n",
      "         rap       0.90      0.80      0.85     97727\n",
      "          rb       0.19      0.58      0.29     14610\n",
      "        rock       0.45      0.61      0.52     61868\n",
      "\n",
      "    accuracy                           0.52    307203\n",
      "   macro avg       0.46      0.58      0.44    307203\n",
      "weighted avg       0.66      0.52      0.54    307203\n",
      "\n"
     ]
    }
   ],
   "source": [
    "print(classification_report(y_test, classifier.predict(X_test_reduced)))"
   ]
  },
  {
   "cell_type": "code",
   "execution_count": 38,
   "id": "ec056c04",
   "metadata": {},
   "outputs": [
    {
     "data": {
      "text/plain": [
       "<sklearn.metrics._plot.confusion_matrix.ConfusionMatrixDisplay at 0x308b615e0>"
      ]
     },
     "execution_count": 38,
     "metadata": {},
     "output_type": "execute_result"
    },
    {
     "data": {
      "image/png": "[encoded data removed]",
      "text/plain": [
       "<Figure size 640x480 with 2 Axes>"
      ]
     },
     "metadata": {},
     "output_type": "display_data"
    }
   ],
   "source": [
    "ConfusionMatrixDisplay.from_estimator(\n",
    "    estimator = classifier,\n",
    "    X=X_test_reduced,\n",
    "    y=y_test,\n",
    "    labels=classifier.classes_,\n",
    "    cmap='Purples',\n",
    ")"
   ]
  },
  {
   "cell_type": "markdown",
   "id": "ea7ce3db",
   "metadata": {},
   "source": [
    "Explanation"
   ]
  },
  {
   "cell_type": "code",
   "execution_count": 47,
   "id": "6612e723",
   "metadata": {},
   "outputs": [
    {
     "data": {
      "text/plain": [
       "2151609"
      ]
     },
     "execution_count": 47,
     "metadata": {},
     "output_type": "execute_result"
    }
   ],
   "source": [
    "len(X_train_vectorized.getcol(0).toarray())"
   ]
  },
  {
   "cell_type": "code",
   "execution_count": null,
   "id": "becc20fa",
   "metadata": {},
   "outputs": [],
   "source": [
    "len(svd.components_[0][0])"
   ]
  },
  {
   "cell_type": "code",
   "execution_count": null,
   "id": "53e219e1",
   "metadata": {},
   "outputs": [],
   "source": []
  },
  {
   "cell_type": "markdown",
   "id": "fa08b37c",
   "metadata": {},
   "source": [
    "Optimizing regularization params"
   ]
  },
  {
   "cell_type": "code",
   "execution_count": 4,
   "id": "0331fbb9",
   "metadata": {},
   "outputs": [
    {
     "data": {
      "text/html": [
       "<style>#sk-container-id-1 {\n",
       "  /* Definition of color scheme common for light and dark mode */\n",
       "  --sklearn-color-text: black;\n",
       "  --sklearn-color-line: gray;\n",
       "  /* Definition of color scheme for unfitted estimators */\n",
       "  --sklearn-color-unfitted-level-0: #fff5e6;\n",
       "  --sklearn-color-unfitted-level-1: #f6e4d2;\n",
       "  --sklearn-color-unfitted-level-2: #ffe0b3;\n",
       "  --sklearn-color-unfitted-level-3: chocolate;\n",
       "  /* Definition of color scheme for fitted estimators */\n",
       "  --sklearn-color-fitted-level-0: #f0f8ff;\n",
       "  --sklearn-color-fitted-level-1: #d4ebff;\n",
       "  --sklearn-color-fitted-level-2: #b3dbfd;\n",
       "  --sklearn-color-fitted-level-3: cornflowerblue;\n",
       "\n",
       "  /* Specific color for light theme */\n",
       "  --sklearn-color-text-on-default-background: var(--sg-text-color, var(--theme-code-foreground, var(--jp-content-font-color1, black)));\n",
       "  --sklearn-color-background: var(--sg-background-color, var(--theme-background, var(--jp-layout-color0, white)));\n",
       "  --sklearn-color-border-box: var(--sg-text-color, var(--theme-code-foreground, var(--jp-content-font-color1, black)));\n",
       "  --sklearn-color-icon: #696969;\n",
       "\n",
       "  @media (prefers-color-scheme: dark) {\n",
       "    /* Redefinition of color scheme for dark theme */\n",
       "    --sklearn-color-text-on-default-background: var(--sg-text-color, var(--theme-code-foreground, var(--jp-content-font-color1, white)));\n",
       "    --sklearn-color-background: var(--sg-background-color, var(--theme-background, var(--jp-layout-color0, #111)));\n",
       "    --sklearn-color-border-box: var(--sg-text-color, var(--theme-code-foreground, var(--jp-content-font-color1, white)));\n",
       "    --sklearn-color-icon: #878787;\n",
       "  }\n",
       "}\n",
       "\n",
       "#sk-container-id-1 {\n",
       "  color: var(--sklearn-color-text);\n",
       "}\n",
       "\n",
       "#sk-container-id-1 pre {\n",
       "  padding: 0;\n",
       "}\n",
       "\n",
       "#sk-container-id-1 input.sk-hidden--visually {\n",
       "  border: 0;\n",
       "  clip: rect(1px 1px 1px 1px);\n",
       "  clip: rect(1px, 1px, 1px, 1px);\n",
       "  height: 1px;\n",
       "  margin: -1px;\n",
       "  overflow: hidden;\n",
       "  padding: 0;\n",
       "  position: absolute;\n",
       "  width: 1px;\n",
       "}\n",
       "\n",
       "#sk-container-id-1 div.sk-dashed-wrapped {\n",
       "  border: 1px dashed var(--sklearn-color-line);\n",
       "  margin: 0 0.4em 0.5em 0.4em;\n",
       "  box-sizing: border-box;\n",
       "  padding-bottom: 0.4em;\n",
       "  background-color: var(--sklearn-color-background);\n",
       "}\n",
       "\n",
       "#sk-container-id-1 div.sk-container {\n",
       "  /* jupyter's `normalize.less` sets `[hidden] { display: none; }`\n",
       "     but bootstrap.min.css set `[hidden] { display: none !important; }`\n",
       "     so we also need the `!important` here to be able to override the\n",
       "     default hidden behavior on the sphinx rendered scikit-learn.org.\n",
       "     See: https://github.com/scikit-learn/scikit-learn/issues/21755 */\n",
       "  display: inline-block !important;\n",
       "  position: relative;\n",
       "}\n",
       "\n",
       "#sk-container-id-1 div.sk-text-repr-fallback {\n",
       "  display: none;\n",
       "}\n",
       "\n",
       "div.sk-parallel-item,\n",
       "div.sk-serial,\n",
       "div.sk-item {\n",
       "  /* draw centered vertical line to link estimators */\n",
       "  background-image: linear-gradient(var(--sklearn-color-text-on-default-background), var(--sklearn-color-text-on-default-background));\n",
       "  background-size: 2px 100%;\n",
       "  background-repeat: no-repeat;\n",
       "  background-position: center center;\n",
       "}\n",
       "\n",
       "/* Parallel-specific style estimator block */\n",
       "\n",
       "#sk-container-id-1 div.sk-parallel-item::after {\n",
       "  content: \"\";\n",
       "  width: 100%;\n",
       "  border-bottom: 2px solid var(--sklearn-color-text-on-default-background);\n",
       "  flex-grow: 1;\n",
       "}\n",
       "\n",
       "#sk-container-id-1 div.sk-parallel {\n",
       "  display: flex;\n",
       "  align-items: stretch;\n",
       "  justify-content: center;\n",
       "  background-color: var(--sklearn-color-background);\n",
       "  position: relative;\n",
       "}\n",
       "\n",
       "#sk-container-id-1 div.sk-parallel-item {\n",
       "  display: flex;\n",
       "  flex-direction: column;\n",
       "}\n",
       "\n",
       "#sk-container-id-1 div.sk-parallel-item:first-child::after {\n",
       "  align-self: flex-end;\n",
       "  width: 50%;\n",
       "}\n",
       "\n",
       "#sk-container-id-1 div.sk-parallel-item:last-child::after {\n",
       "  align-self: flex-start;\n",
       "  width: 50%;\n",
       "}\n",
       "\n",
       "#sk-container-id-1 div.sk-parallel-item:only-child::after {\n",
       "  width: 0;\n",
       "}\n",
       "\n",
       "/* Serial-specific style estimator block */\n",
       "\n",
       "#sk-container-id-1 div.sk-serial {\n",
       "  display: flex;\n",
       "  flex-direction: column;\n",
       "  align-items: center;\n",
       "  background-color: var(--sklearn-color-background);\n",
       "  padding-right: 1em;\n",
       "  padding-left: 1em;\n",
       "}\n",
       "\n",
       "\n",
       "/* Toggleable style: style used for estimator/Pipeline/ColumnTransformer box that is\n",
       "clickable and can be expanded/collapsed.\n",
       "- Pipeline and ColumnTransformer use this feature and define the default style\n",
       "- Estimators will overwrite some part of the style using the `sk-estimator` class\n",
       "*/\n",
       "\n",
       "/* Pipeline and ColumnTransformer style (default) */\n",
       "\n",
       "#sk-container-id-1 div.sk-toggleable {\n",
       "  /* Default theme specific background. It is overwritten whether we have a\n",
       "  specific estimator or a Pipeline/ColumnTransformer */\n",
       "  background-color: var(--sklearn-color-background);\n",
       "}\n",
       "\n",
       "/* Toggleable label */\n",
       "#sk-container-id-1 label.sk-toggleable__label {\n",
       "  cursor: pointer;\n",
       "  display: block;\n",
       "  width: 100%;\n",
       "  margin-bottom: 0;\n",
       "  padding: 0.5em;\n",
       "  box-sizing: border-box;\n",
       "  text-align: center;\n",
       "}\n",
       "\n",
       "#sk-container-id-1 label.sk-toggleable__label-arrow:before {\n",
       "  /* Arrow on the left of the label */\n",
       "  content: \"▸\";\n",
       "  float: left;\n",
       "  margin-right: 0.25em;\n",
       "  color: var(--sklearn-color-icon);\n",
       "}\n",
       "\n",
       "#sk-container-id-1 label.sk-toggleable__label-arrow:hover:before {\n",
       "  color: var(--sklearn-color-text);\n",
       "}\n",
       "\n",
       "/* Toggleable content - dropdown */\n",
       "\n",
       "#sk-container-id-1 div.sk-toggleable__content {\n",
       "  max-height: 0;\n",
       "  max-width: 0;\n",
       "  overflow: hidden;\n",
       "  text-align: left;\n",
       "  /* unfitted */\n",
       "  background-color: var(--sklearn-color-unfitted-level-0);\n",
       "}\n",
       "\n",
       "#sk-container-id-1 div.sk-toggleable__content.fitted {\n",
       "  /* fitted */\n",
       "  background-color: var(--sklearn-color-fitted-level-0);\n",
       "}\n",
       "\n",
       "#sk-container-id-1 div.sk-toggleable__content pre {\n",
       "  margin: 0.2em;\n",
       "  border-radius: 0.25em;\n",
       "  color: var(--sklearn-color-text);\n",
       "  /* unfitted */\n",
       "  background-color: var(--sklearn-color-unfitted-level-0);\n",
       "}\n",
       "\n",
       "#sk-container-id-1 div.sk-toggleable__content.fitted pre {\n",
       "  /* unfitted */\n",
       "  background-color: var(--sklearn-color-fitted-level-0);\n",
       "}\n",
       "\n",
       "#sk-container-id-1 input.sk-toggleable__control:checked~div.sk-toggleable__content {\n",
       "  /* Expand drop-down */\n",
       "  max-height: 200px;\n",
       "  max-width: 100%;\n",
       "  overflow: auto;\n",
       "}\n",
       "\n",
       "#sk-container-id-1 input.sk-toggleable__control:checked~label.sk-toggleable__label-arrow:before {\n",
       "  content: \"▾\";\n",
       "}\n",
       "\n",
       "/* Pipeline/ColumnTransformer-specific style */\n",
       "\n",
       "#sk-container-id-1 div.sk-label input.sk-toggleable__control:checked~label.sk-toggleable__label {\n",
       "  color: var(--sklearn-color-text);\n",
       "  background-color: var(--sklearn-color-unfitted-level-2);\n",
       "}\n",
       "\n",
       "#sk-container-id-1 div.sk-label.fitted input.sk-toggleable__control:checked~label.sk-toggleable__label {\n",
       "  background-color: var(--sklearn-color-fitted-level-2);\n",
       "}\n",
       "\n",
       "/* Estimator-specific style */\n",
       "\n",
       "/* Colorize estimator box */\n",
       "#sk-container-id-1 div.sk-estimator input.sk-toggleable__control:checked~label.sk-toggleable__label {\n",
       "  /* unfitted */\n",
       "  background-color: var(--sklearn-color-unfitted-level-2);\n",
       "}\n",
       "\n",
       "#sk-container-id-1 div.sk-estimator.fitted input.sk-toggleable__control:checked~label.sk-toggleable__label {\n",
       "  /* fitted */\n",
       "  background-color: var(--sklearn-color-fitted-level-2);\n",
       "}\n",
       "\n",
       "#sk-container-id-1 div.sk-label label.sk-toggleable__label,\n",
       "#sk-container-id-1 div.sk-label label {\n",
       "  /* The background is the default theme color */\n",
       "  color: var(--sklearn-color-text-on-default-background);\n",
       "}\n",
       "\n",
       "/* On hover, darken the color of the background */\n",
       "#sk-container-id-1 div.sk-label:hover label.sk-toggleable__label {\n",
       "  color: var(--sklearn-color-text);\n",
       "  background-color: var(--sklearn-color-unfitted-level-2);\n",
       "}\n",
       "\n",
       "/* Label box, darken color on hover, fitted */\n",
       "#sk-container-id-1 div.sk-label.fitted:hover label.sk-toggleable__label.fitted {\n",
       "  color: var(--sklearn-color-text);\n",
       "  background-color: var(--sklearn-color-fitted-level-2);\n",
       "}\n",
       "\n",
       "/* Estimator label */\n",
       "\n",
       "#sk-container-id-1 div.sk-label label {\n",
       "  font-family: monospace;\n",
       "  font-weight: bold;\n",
       "  display: inline-block;\n",
       "  line-height: 1.2em;\n",
       "}\n",
       "\n",
       "#sk-container-id-1 div.sk-label-container {\n",
       "  text-align: center;\n",
       "}\n",
       "\n",
       "/* Estimator-specific */\n",
       "#sk-container-id-1 div.sk-estimator {\n",
       "  font-family: monospace;\n",
       "  border: 1px dotted var(--sklearn-color-border-box);\n",
       "  border-radius: 0.25em;\n",
       "  box-sizing: border-box;\n",
       "  margin-bottom: 0.5em;\n",
       "  /* unfitted */\n",
       "  background-color: var(--sklearn-color-unfitted-level-0);\n",
       "}\n",
       "\n",
       "#sk-container-id-1 div.sk-estimator.fitted {\n",
       "  /* fitted */\n",
       "  background-color: var(--sklearn-color-fitted-level-0);\n",
       "}\n",
       "\n",
       "/* on hover */\n",
       "#sk-container-id-1 div.sk-estimator:hover {\n",
       "  /* unfitted */\n",
       "  background-color: var(--sklearn-color-unfitted-level-2);\n",
       "}\n",
       "\n",
       "#sk-container-id-1 div.sk-estimator.fitted:hover {\n",
       "  /* fitted */\n",
       "  background-color: var(--sklearn-color-fitted-level-2);\n",
       "}\n",
       "\n",
       "/* Specification for estimator info (e.g. \"i\" and \"?\") */\n",
       "\n",
       "/* Common style for \"i\" and \"?\" */\n",
       "\n",
       ".sk-estimator-doc-link,\n",
       "a:link.sk-estimator-doc-link,\n",
       "a:visited.sk-estimator-doc-link {\n",
       "  float: right;\n",
       "  font-size: smaller;\n",
       "  line-height: 1em;\n",
       "  font-family: monospace;\n",
       "  background-color: var(--sklearn-color-background);\n",
       "  border-radius: 1em;\n",
       "  height: 1em;\n",
       "  width: 1em;\n",
       "  text-decoration: none !important;\n",
       "  margin-left: 1ex;\n",
       "  /* unfitted */\n",
       "  border: var(--sklearn-color-unfitted-level-1) 1pt solid;\n",
       "  color: var(--sklearn-color-unfitted-level-1);\n",
       "}\n",
       "\n",
       ".sk-estimator-doc-link.fitted,\n",
       "a:link.sk-estimator-doc-link.fitted,\n",
       "a:visited.sk-estimator-doc-link.fitted {\n",
       "  /* fitted */\n",
       "  border: var(--sklearn-color-fitted-level-1) 1pt solid;\n",
       "  color: var(--sklearn-color-fitted-level-1);\n",
       "}\n",
       "\n",
       "/* On hover */\n",
       "div.sk-estimator:hover .sk-estimator-doc-link:hover,\n",
       ".sk-estimator-doc-link:hover,\n",
       "div.sk-label-container:hover .sk-estimator-doc-link:hover,\n",
       ".sk-estimator-doc-link:hover {\n",
       "  /* unfitted */\n",
       "  background-color: var(--sklearn-color-unfitted-level-3);\n",
       "  color: var(--sklearn-color-background);\n",
       "  text-decoration: none;\n",
       "}\n",
       "\n",
       "div.sk-estimator.fitted:hover .sk-estimator-doc-link.fitted:hover,\n",
       ".sk-estimator-doc-link.fitted:hover,\n",
       "div.sk-label-container:hover .sk-estimator-doc-link.fitted:hover,\n",
       ".sk-estimator-doc-link.fitted:hover {\n",
       "  /* fitted */\n",
       "  background-color: var(--sklearn-color-fitted-level-3);\n",
       "  color: var(--sklearn-color-background);\n",
       "  text-decoration: none;\n",
       "}\n",
       "\n",
       "/* Span, style for the box shown on hovering the info icon */\n",
       ".sk-estimator-doc-link span {\n",
       "  display: none;\n",
       "  z-index: 9999;\n",
       "  position: relative;\n",
       "  font-weight: normal;\n",
       "  right: .2ex;\n",
       "  padding: .5ex;\n",
       "  margin: .5ex;\n",
       "  width: min-content;\n",
       "  min-width: 20ex;\n",
       "  max-width: 50ex;\n",
       "  color: var(--sklearn-color-text);\n",
       "  box-shadow: 2pt 2pt 4pt #999;\n",
       "  /* unfitted */\n",
       "  background: var(--sklearn-color-unfitted-level-0);\n",
       "  border: .5pt solid var(--sklearn-color-unfitted-level-3);\n",
       "}\n",
       "\n",
       ".sk-estimator-doc-link.fitted span {\n",
       "  /* fitted */\n",
       "  background: var(--sklearn-color-fitted-level-0);\n",
       "  border: var(--sklearn-color-fitted-level-3);\n",
       "}\n",
       "\n",
       ".sk-estimator-doc-link:hover span {\n",
       "  display: block;\n",
       "}\n",
       "\n",
       "/* \"?\"-specific style due to the `<a>` HTML tag */\n",
       "\n",
       "#sk-container-id-1 a.estimator_doc_link {\n",
       "  float: right;\n",
       "  font-size: 1rem;\n",
       "  line-height: 1em;\n",
       "  font-family: monospace;\n",
       "  background-color: var(--sklearn-color-background);\n",
       "  border-radius: 1rem;\n",
       "  height: 1rem;\n",
       "  width: 1rem;\n",
       "  text-decoration: none;\n",
       "  /* unfitted */\n",
       "  color: var(--sklearn-color-unfitted-level-1);\n",
       "  border: var(--sklearn-color-unfitted-level-1) 1pt solid;\n",
       "}\n",
       "\n",
       "#sk-container-id-1 a.estimator_doc_link.fitted {\n",
       "  /* fitted */\n",
       "  border: var(--sklearn-color-fitted-level-1) 1pt solid;\n",
       "  color: var(--sklearn-color-fitted-level-1);\n",
       "}\n",
       "\n",
       "/* On hover */\n",
       "#sk-container-id-1 a.estimator_doc_link:hover {\n",
       "  /* unfitted */\n",
       "  background-color: var(--sklearn-color-unfitted-level-3);\n",
       "  color: var(--sklearn-color-background);\n",
       "  text-decoration: none;\n",
       "}\n",
       "\n",
       "#sk-container-id-1 a.estimator_doc_link.fitted:hover {\n",
       "  /* fitted */\n",
       "  background-color: var(--sklearn-color-fitted-level-3);\n",
       "}\n",
       "</style><div id=\"sk-container-id-1\" class=\"sk-top-container\"><div class=\"sk-text-repr-fallback\"><pre>Pipeline(memory=&#x27;/Users/vtysch/sklearn_cache&#x27;,\n",
       "         steps=[(&#x27;vectorizer&#x27;,\n",
       "                 TfidfVectorizer(max_features=250000, ngram_range=1,\n",
       "                                 stop_words=&#x27;english&#x27;)),\n",
       "                (&#x27;classifier&#x27;,\n",
       "                 LogisticRegression(class_weight=&#x27;balanced&#x27;,\n",
       "                                    penalty=&#x27;elasticnet&#x27;, random_state=42))],\n",
       "         verbose=True)</pre><b>In a Jupyter environment, please rerun this cell to show the HTML representation or trust the notebook. <br />On GitHub, the HTML representation is unable to render, please try loading this page with nbviewer.org.</b></div><div class=\"sk-container\" hidden><div class=\"sk-item sk-dashed-wrapped\"><div class=\"sk-label-container\"><div class=\"sk-label  sk-toggleable\"><input class=\"sk-toggleable__control sk-hidden--visually\" id=\"sk-estimator-id-1\" type=\"checkbox\" ><label for=\"sk-estimator-id-1\" class=\"sk-toggleable__label  sk-toggleable__label-arrow \">&nbsp;&nbsp;Pipeline<a class=\"sk-estimator-doc-link \" rel=\"noreferrer\" target=\"_blank\" href=\"https://scikit-learn.org/1.4/modules/generated/sklearn.pipeline.Pipeline.html\">?<span>Documentation for Pipeline</span></a><span class=\"sk-estimator-doc-link \">i<span>Not fitted</span></span></label><div class=\"sk-toggleable__content \"><pre>Pipeline(memory=&#x27;/Users/vtysch/sklearn_cache&#x27;,\n",
       "         steps=[(&#x27;vectorizer&#x27;,\n",
       "                 TfidfVectorizer(max_features=250000, ngram_range=1,\n",
       "                                 stop_words=&#x27;english&#x27;)),\n",
       "                (&#x27;classifier&#x27;,\n",
       "                 LogisticRegression(class_weight=&#x27;balanced&#x27;,\n",
       "                                    penalty=&#x27;elasticnet&#x27;, random_state=42))],\n",
       "         verbose=True)</pre></div> </div></div><div class=\"sk-serial\"><div class=\"sk-item\"><div class=\"sk-estimator  sk-toggleable\"><input class=\"sk-toggleable__control sk-hidden--visually\" id=\"sk-estimator-id-2\" type=\"checkbox\" ><label for=\"sk-estimator-id-2\" class=\"sk-toggleable__label  sk-toggleable__label-arrow \">&nbsp;TfidfVectorizer<a class=\"sk-estimator-doc-link \" rel=\"noreferrer\" target=\"_blank\" href=\"https://scikit-learn.org/1.4/modules/generated/sklearn.feature_extraction.text.TfidfVectorizer.html\">?<span>Documentation for TfidfVectorizer</span></a></label><div class=\"sk-toggleable__content \"><pre>TfidfVectorizer(max_features=250000, ngram_range=1, stop_words=&#x27;english&#x27;)</pre></div> </div></div><div class=\"sk-item\"><div class=\"sk-estimator  sk-toggleable\"><input class=\"sk-toggleable__control sk-hidden--visually\" id=\"sk-estimator-id-3\" type=\"checkbox\" ><label for=\"sk-estimator-id-3\" class=\"sk-toggleable__label  sk-toggleable__label-arrow \">&nbsp;LogisticRegression<a class=\"sk-estimator-doc-link \" rel=\"noreferrer\" target=\"_blank\" href=\"https://scikit-learn.org/1.4/modules/generated/sklearn.linear_model.LogisticRegression.html\">?<span>Documentation for LogisticRegression</span></a></label><div class=\"sk-toggleable__content \"><pre>LogisticRegression(class_weight=&#x27;balanced&#x27;, penalty=&#x27;elasticnet&#x27;,\n",
       "                   random_state=42)</pre></div> </div></div></div></div></div></div>"
      ],
      "text/plain": [
       "Pipeline(memory='/Users/vtysch/sklearn_cache',\n",
       "         steps=[('vectorizer',\n",
       "                 TfidfVectorizer(max_features=250000, ngram_range=1,\n",
       "                                 stop_words='english')),\n",
       "                ('classifier',\n",
       "                 LogisticRegression(class_weight='balanced',\n",
       "                                    penalty='elasticnet', random_state=42))],\n",
       "         verbose=True)"
      ]
     },
     "metadata": {},
     "output_type": "display_data"
    }
   ],
   "source": [
    "X, y = dataset['lyrics'], dataset['tag']\n",
    "X_train, X_test, y_train, y_test = train_test_split(X, y, test_size=0.33, random_state=42)\n",
    "\n",
    "vectorizer = TfidfVectorizer(stop_words='english', ngram_range=(1), max_features=200000)\n",
    "classifier = LogisticRegression(penalty='elasticnet', class_weight='balanced', random_state=42)\n",
    "\n",
    "pipe = Pipeline(steps=[(\"vectorizer\", vectorizer),\n",
    "                       (\"classifier\", classifier)],\n",
    "                memory='/Users/vtysch/sklearn_cache',\n",
    "                verbose=True\n",
    "               )\n",
    "\n",
    "set_config(display='diagram')\n",
    "display(pipe)"
   ]
  },
  {
   "cell_type": "code",
   "execution_count": null,
   "id": "088fec7c",
   "metadata": {},
   "outputs": [],
   "source": [
    "pipe.fit(X_train, y_train).score(X_test, y_test)"
   ]
  },
  {
   "cell_type": "code",
   "execution_count": null,
   "id": "d6fcb01d",
   "metadata": {},
   "outputs": [],
   "source": []
  }
 ],
 "metadata": {
  "kernelspec": {
   "display_name": "tfenv",
   "language": "python",
   "name": "tfenv"
  },
  "language_info": {
   "codemirror_mode": {
    "name": "ipython",
    "version": 3
   },
   "file_extension": ".py",
   "mimetype": "text/x-python",
   "name": "python",
   "nbconvert_exporter": "python",
   "pygments_lexer": "ipython3",
   "version": "3.9.16"
  }
 },
 "nbformat": 4,
 "nbformat_minor": 5
}
