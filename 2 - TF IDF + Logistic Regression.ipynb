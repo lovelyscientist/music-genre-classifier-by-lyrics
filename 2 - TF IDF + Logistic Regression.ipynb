{
 "cells": [
  {
   "cell_type": "code",
   "execution_count": 28,
   "id": "cc03ebb2",
   "metadata": {},
   "outputs": [],
   "source": [
    "import time\n",
    "import os.path\n",
    "import pickle\n",
    "import pandas as pd\n",
    "import mlflow\n",
    "import numpy as np\n",
    "from scipy.stats import uniform\n",
    "from mlflow.models import infer_signature\n",
    "from sklearn import set_config\n",
    "from sklearn.metrics import f1_score, classification_report\n",
    "from sklearn.decomposition import TruncatedSVD\n",
    "from sklearn.model_selection import cross_val_score, train_test_split\n",
    "from sklearn.feature_extraction.text import TfidfVectorizer\n",
    "from sklearn.linear_model import LogisticRegression\n",
    "from sklearn.model_selection import RandomizedSearchCV\n",
    "from sklearn.pipeline import Pipeline"
   ]
  },
  {
   "cell_type": "code",
   "execution_count": 2,
   "id": "0133cef0",
   "metadata": {},
   "outputs": [],
   "source": [
    "dataset = pd.read_csv('data/processed_english_lyrics.csv')"
   ]
  },
  {
   "cell_type": "code",
   "execution_count": 3,
   "id": "9e6923cc",
   "metadata": {},
   "outputs": [
    {
     "data": {
      "text/plain": [
       "Index(['title', 'tag', 'artist', 'year', 'views', 'features', 'lyrics', 'id',\n",
       "       'language_cld3', 'language_ft', 'language', 'artist_tag_combination'],\n",
       "      dtype='object')"
      ]
     },
     "execution_count": 3,
     "metadata": {},
     "output_type": "execute_result"
    }
   ],
   "source": [
    "dataset = dataset[~dataset['lyrics'].isna()]\n",
    "dataset['artist_tag_combination'] = dataset['artist'] + \"#____#\"+ dataset['tag']\n",
    "dataset.columns"
   ]
  },
  {
   "cell_type": "markdown",
   "id": "09aa5a3e",
   "metadata": {},
   "source": [
    "In this part we will use classical NLP methods for text classification:  \n",
    "1) vectorize documents (lyrics) using TF-IDF vectorization method  \n",
    "2) classify document vectors with Logistic Regression  "
   ]
  },
  {
   "cell_type": "markdown",
   "id": "fef2db9a",
   "metadata": {},
   "source": [
    "### Lyrics vectorization"
   ]
  },
  {
   "cell_type": "markdown",
   "id": "a044406d",
   "metadata": {},
   "source": [
    "TF-IDF vectorization a.k.a term frequence inverse document frequency encodes each unique word in the vocabulary with a real number from 0 to 1. The formula $tf*idf$.  \n",
    "$tf$ - term frequency is calculated per document to identify how often word appears in the document  \n",
    "$idf$ - inverse document frequency = $\\dfrac{1}{frequency}$ of word across all documents  "
   ]
  },
  {
   "cell_type": "code",
   "execution_count": 4,
   "id": "309d8401",
   "metadata": {},
   "outputs": [],
   "source": [
    "X, y = dataset['lyrics'], dataset['tag']"
   ]
  },
  {
   "cell_type": "code",
   "execution_count": 5,
   "id": "1c2eaf27",
   "metadata": {},
   "outputs": [],
   "source": [
    "def train_test_split_stratified_artist(df: pd.DataFrame, test_size: float = 0.10) -> tuple[pd.DataFrame, pd.Series, pd.Series]:\n",
    "    \"\"\"Function that splits the dataset in stratified fashion by artist to save tags distribution\"\"\"\n",
    "    artist_tag_unique = sorted(df['artist_tag_combination'].unique())\n",
    "    tags_list = list(map(lambda c: c.split(\"#____#\")[1], artist_tag_unique))\n",
    "    artist_tag_train, _, _, _ = train_test_split(artist_tag_unique,\n",
    "                                                    tags_list,\n",
    "                                                    test_size=test_size,\n",
    "                                                    random_state=42,\n",
    "                                                    stratify=tags_list)\n",
    "    train_df = df[df['artist_tag_combination'].isin(artist_tag_train)]\n",
    "    test_df = df[~df['artist_tag_combination'].isin(artist_tag_train)]\n",
    "    X_test, y_test = test_df['lyrics'], test_df['tag']\n",
    "    return (train_df, X_test, y_test)"
   ]
  },
  {
   "cell_type": "markdown",
   "id": "50aecfd2",
   "metadata": {},
   "source": [
    "#### Splitting data into 10/20/70 for test, validation and train datasets"
   ]
  },
  {
   "cell_type": "code",
   "execution_count": 6,
   "id": "a887bce4",
   "metadata": {},
   "outputs": [],
   "source": [
    "train_validation_df, X_test, y_test = train_test_split_stratified_artist(dataset)\n",
    "train_df, X_valid, y_valid = train_test_split_stratified_artist(train_validation_df, test_size=0.22)\n",
    "X_train, y_train = train_df['lyrics'], train_df['tag']"
   ]
  },
  {
   "cell_type": "code",
   "execution_count": 7,
   "id": "65f2dfe5",
   "metadata": {},
   "outputs": [],
   "source": [
    "del train_validation_df\n",
    "del train_df"
   ]
  },
  {
   "cell_type": "code",
   "execution_count": 8,
   "id": "96d66dfc",
   "metadata": {},
   "outputs": [
    {
     "name": "stdout",
     "output_type": "stream",
     "text": [
      "test len:  307203 307203\n",
      "valid len:  608271 608271\n",
      "train len:  2151609 2151609\n"
     ]
    }
   ],
   "source": [
    "print('test len: ', len(X_test), len(y_test))\n",
    "print('valid len: ', len(X_valid), len(y_valid))\n",
    "print('train len: ', len(X_train), len(y_train))"
   ]
  },
  {
   "cell_type": "markdown",
   "id": "36a85b1c",
   "metadata": {},
   "source": [
    "#### Testing pipeline parts individually and finding best hyper parameters. Than combining into one prediction pipeline."
   ]
  },
  {
   "cell_type": "code",
   "execution_count": 9,
   "id": "e2209d18",
   "metadata": {},
   "outputs": [],
   "source": [
    "vectorizer_file_exists = os.path.isfile('vectorizer.pk')\n",
    "svd_file_exists = os.path.isfile('svd.pk')"
   ]
  },
  {
   "cell_type": "markdown",
   "id": "1907eb1a",
   "metadata": {},
   "source": [
    "Vectorizing text with TF-IDF"
   ]
  },
  {
   "cell_type": "code",
   "execution_count": 10,
   "id": "96233382",
   "metadata": {},
   "outputs": [
    {
     "name": "stdout",
     "output_type": "stream",
     "text": [
      "(2151609, 200000)\n",
      "Execution time:  5.068227597077688 minutes\n"
     ]
    }
   ],
   "source": [
    "start_time = time.time()\n",
    "if not vectorizer_file_exists:\n",
    "    start_time = time.time()\n",
    "    vectorizer = TfidfVectorizer(stop_words='english', ngram_range=(1,2), max_features=200000)\n",
    "    X_train_vectorized = vectorizer.fit_transform(X_train)\n",
    "    with open('vectorizer.pk', 'wb') as f:\n",
    "        pickle.dump(vectorizer, f)\n",
    "else:\n",
    "    with open('vectorizer.pk', 'rb') as f:\n",
    "        vectorizer = pickle.load(f)\n",
    "        X_train_vectorized = vectorizer.transform(X_train)\n",
    "        \n",
    "print(X_train_vectorized.shape)\n",
    "print('Execution time: ', str((time.time()-start_time)/60), 'minutes')"
   ]
  },
  {
   "cell_type": "markdown",
   "id": "d30e5c85",
   "metadata": {},
   "source": [
    "Reducing dimensionality and sparsity with SVD"
   ]
  },
  {
   "cell_type": "code",
   "execution_count": 11,
   "id": "4a3d8821",
   "metadata": {},
   "outputs": [
    {
     "name": "stdout",
     "output_type": "stream",
     "text": [
      "0.13002072028513775\n",
      "Execution time:  0.6455830295880636 minutes\n"
     ]
    }
   ],
   "source": [
    "start_time = time.time()\n",
    "if not svd_file_exists:  \n",
    "    svd = TruncatedSVD(n_components=250, n_iter=5, random_state=42)\n",
    "    with open('svd.pk', 'wb') as f:\n",
    "        pickle.dump(svd, f)\n",
    "    X_train_reduced = svd.fit_transform(X_train_vectorized)\n",
    "else:\n",
    "    with open('svd.pk', 'rb') as f:\n",
    "        svd = pickle.load(f)\n",
    "    X_train_reduced = svd.transform(X_train_vectorized)\n",
    "    \n",
    "print(svd.explained_variance_ratio_.sum())\n",
    "print(X_train_reduced.shape)\n",
    "print('Execution time: ', str((time.time()-start_time)/60), 'minutes')"
   ]
  },
  {
   "cell_type": "markdown",
   "id": "fab3e650",
   "metadata": {},
   "source": [
    "Training Logistic Regression Model, for now hyperparameters are not optimized"
   ]
  },
  {
   "cell_type": "code",
   "execution_count": 13,
   "id": "7365d41c",
   "metadata": {},
   "outputs": [
    {
     "name": "stdout",
     "output_type": "stream",
     "text": [
      "Execution time:  6.817437199751536 m\n",
      "0.48780424324307997\n"
     ]
    }
   ],
   "source": [
    "start_time = time.time()\n",
    "classifier = LogisticRegression(penalty='elasticnet',\n",
    "                                class_weight='balanced',\n",
    "                                solver='saga',\n",
    "                                random_state=42,\n",
    "                                warm_start=True,\n",
    "                                n_jobs=-1,\n",
    "                                l1_ratio=0.2)\n",
    "classifier.fit(X_train_reduced, y_train)\n",
    "print('Execution time: ', str((time.time()-start_time)/60), 'm')\n",
    "print(classifier.score(X_train_reduced, y_train))"
   ]
  },
  {
   "cell_type": "markdown",
   "id": "8bc796ad",
   "metadata": {},
   "source": [
    "Transforming validation dataset"
   ]
  },
  {
   "cell_type": "code",
   "execution_count": 14,
   "id": "7ddb3357",
   "metadata": {},
   "outputs": [
    {
     "name": "stdout",
     "output_type": "stream",
     "text": [
      "CPU times: user 1min 34s, sys: 5.25 s, total: 1min 39s\n",
      "Wall time: 2min 7s\n"
     ]
    }
   ],
   "source": [
    "%%time\n",
    "X_valid_vectorized = vectorizer.transform(X_valid)\n",
    "X_valid_reduced = svd.transform(X_valid_vectorized)"
   ]
  },
  {
   "cell_type": "code",
   "execution_count": 21,
   "id": "30065bfc",
   "metadata": {},
   "outputs": [
    {
     "name": "stdout",
     "output_type": "stream",
     "text": [
      "              precision    recall  f1-score   support\n",
      "\n",
      "     country       0.11      0.65      0.19     59336\n",
      "         pop       0.65      0.23      0.33    910019\n",
      "         rap       0.89      0.76      0.82    653512\n",
      "          rb       0.17      0.54      0.26    103627\n",
      "        rock       0.41      0.59      0.49    425115\n",
      "\n",
      "    accuracy                           0.49   2151609\n",
      "   macro avg       0.45      0.55      0.42   2151609\n",
      "weighted avg       0.64      0.49      0.51   2151609\n",
      "\n"
     ]
    }
   ],
   "source": [
    "print(classification_report(y_train, classifier.predict(X_train_reduced)))"
   ]
  },
  {
   "cell_type": "code",
   "execution_count": 22,
   "id": "adf987ec",
   "metadata": {},
   "outputs": [
    {
     "name": "stdout",
     "output_type": "stream",
     "text": [
      "              precision    recall  f1-score   support\n",
      "\n",
      "     country       0.11      0.65      0.18     16028\n",
      "         pop       0.67      0.23      0.34    263184\n",
      "         rap       0.89      0.76      0.82    184871\n",
      "          rb       0.17      0.55      0.26     29011\n",
      "        rock       0.40      0.60      0.48    115177\n",
      "\n",
      "    accuracy                           0.48    608271\n",
      "   macro avg       0.45      0.56      0.42    608271\n",
      "weighted avg       0.65      0.48      0.50    608271\n",
      "\n"
     ]
    }
   ],
   "source": [
    "print(classification_report(y_valid, classifier.predict(X_valid_reduced)))"
   ]
  },
  {
   "cell_type": "markdown",
   "id": "105de33b",
   "metadata": {},
   "source": [
    "Optimizing regularization params"
   ]
  },
  {
   "cell_type": "code",
   "execution_count": null,
   "id": "08445092",
   "metadata": {},
   "outputs": [
    {
     "name": "stdout",
     "output_type": "stream",
     "text": [
      "Fitting 3 folds for each of 10 candidates, totalling 30 fits\n",
      "[CV 1/3] END C=1.49816047538945, l1_ratio=0.7000000000000001;, score=0.416 total time= 5.5min\n",
      "[CV 2/3] END C=1.49816047538945, l1_ratio=0.7000000000000001;, score=0.419 total time= 5.6min\n",
      "[CV 3/3] END C=1.49816047538945, l1_ratio=0.7000000000000001;, score=0.401 total time= 5.8min\n",
      "[CV 1/3] END C=2.9279757672456204, l1_ratio=0.30000000000000004;, score=0.416 total time= 4.9min\n",
      "[CV 2/3] END C=2.9279757672456204, l1_ratio=0.30000000000000004;, score=0.419 total time= 5.4min\n",
      "[CV 3/3] END C=2.9279757672456204, l1_ratio=0.30000000000000004;, score=0.401 total time= 5.3min\n",
      "[CV 1/3] END C=1.7833310114143646, l1_ratio=0.5;, score=0.416 total time= 5.0min\n",
      "[CV 2/3] END C=1.7833310114143646, l1_ratio=0.5;, score=0.419 total time= 5.1min\n"
     ]
    }
   ],
   "source": [
    "%%time\n",
    "distributions = dict(C=uniform(loc=0, scale=4),\n",
    "                     l1_ratio=np.arange(0, 1, 0.05))\n",
    "classifier = LogisticRegression(penalty='elasticnet',\n",
    "                                class_weight='balanced',\n",
    "                                solver='saga',\n",
    "                                random_state=42,\n",
    "                                warm_start=True,\n",
    "                                n_jobs=-1)\n",
    "clf = RandomizedSearchCV(classifier,\n",
    "                         distributions,\n",
    "                         random_state=42,\n",
    "                         scoring='f1_macro',\n",
    "                         cv=3,\n",
    "                         verbose=3\n",
    "                        )\n",
    "search = clf.fit(X_train_reduced, y_train)\n",
    "search.best_params_"
   ]
  },
  {
   "cell_type": "code",
   "execution_count": 4,
   "id": "0331fbb9",
   "metadata": {},
   "outputs": [
    {
     "data": {
      "text/html": [
       "<style>#sk-container-id-1 {\n",
       "  /* Definition of color scheme common for light and dark mode */\n",
       "  --sklearn-color-text: black;\n",
       "  --sklearn-color-line: gray;\n",
       "  /* Definition of color scheme for unfitted estimators */\n",
       "  --sklearn-color-unfitted-level-0: #fff5e6;\n",
       "  --sklearn-color-unfitted-level-1: #f6e4d2;\n",
       "  --sklearn-color-unfitted-level-2: #ffe0b3;\n",
       "  --sklearn-color-unfitted-level-3: chocolate;\n",
       "  /* Definition of color scheme for fitted estimators */\n",
       "  --sklearn-color-fitted-level-0: #f0f8ff;\n",
       "  --sklearn-color-fitted-level-1: #d4ebff;\n",
       "  --sklearn-color-fitted-level-2: #b3dbfd;\n",
       "  --sklearn-color-fitted-level-3: cornflowerblue;\n",
       "\n",
       "  /* Specific color for light theme */\n",
       "  --sklearn-color-text-on-default-background: var(--sg-text-color, var(--theme-code-foreground, var(--jp-content-font-color1, black)));\n",
       "  --sklearn-color-background: var(--sg-background-color, var(--theme-background, var(--jp-layout-color0, white)));\n",
       "  --sklearn-color-border-box: var(--sg-text-color, var(--theme-code-foreground, var(--jp-content-font-color1, black)));\n",
       "  --sklearn-color-icon: #696969;\n",
       "\n",
       "  @media (prefers-color-scheme: dark) {\n",
       "    /* Redefinition of color scheme for dark theme */\n",
       "    --sklearn-color-text-on-default-background: var(--sg-text-color, var(--theme-code-foreground, var(--jp-content-font-color1, white)));\n",
       "    --sklearn-color-background: var(--sg-background-color, var(--theme-background, var(--jp-layout-color0, #111)));\n",
       "    --sklearn-color-border-box: var(--sg-text-color, var(--theme-code-foreground, var(--jp-content-font-color1, white)));\n",
       "    --sklearn-color-icon: #878787;\n",
       "  }\n",
       "}\n",
       "\n",
       "#sk-container-id-1 {\n",
       "  color: var(--sklearn-color-text);\n",
       "}\n",
       "\n",
       "#sk-container-id-1 pre {\n",
       "  padding: 0;\n",
       "}\n",
       "\n",
       "#sk-container-id-1 input.sk-hidden--visually {\n",
       "  border: 0;\n",
       "  clip: rect(1px 1px 1px 1px);\n",
       "  clip: rect(1px, 1px, 1px, 1px);\n",
       "  height: 1px;\n",
       "  margin: -1px;\n",
       "  overflow: hidden;\n",
       "  padding: 0;\n",
       "  position: absolute;\n",
       "  width: 1px;\n",
       "}\n",
       "\n",
       "#sk-container-id-1 div.sk-dashed-wrapped {\n",
       "  border: 1px dashed var(--sklearn-color-line);\n",
       "  margin: 0 0.4em 0.5em 0.4em;\n",
       "  box-sizing: border-box;\n",
       "  padding-bottom: 0.4em;\n",
       "  background-color: var(--sklearn-color-background);\n",
       "}\n",
       "\n",
       "#sk-container-id-1 div.sk-container {\n",
       "  /* jupyter's `normalize.less` sets `[hidden] { display: none; }`\n",
       "     but bootstrap.min.css set `[hidden] { display: none !important; }`\n",
       "     so we also need the `!important` here to be able to override the\n",
       "     default hidden behavior on the sphinx rendered scikit-learn.org.\n",
       "     See: https://github.com/scikit-learn/scikit-learn/issues/21755 */\n",
       "  display: inline-block !important;\n",
       "  position: relative;\n",
       "}\n",
       "\n",
       "#sk-container-id-1 div.sk-text-repr-fallback {\n",
       "  display: none;\n",
       "}\n",
       "\n",
       "div.sk-parallel-item,\n",
       "div.sk-serial,\n",
       "div.sk-item {\n",
       "  /* draw centered vertical line to link estimators */\n",
       "  background-image: linear-gradient(var(--sklearn-color-text-on-default-background), var(--sklearn-color-text-on-default-background));\n",
       "  background-size: 2px 100%;\n",
       "  background-repeat: no-repeat;\n",
       "  background-position: center center;\n",
       "}\n",
       "\n",
       "/* Parallel-specific style estimator block */\n",
       "\n",
       "#sk-container-id-1 div.sk-parallel-item::after {\n",
       "  content: \"\";\n",
       "  width: 100%;\n",
       "  border-bottom: 2px solid var(--sklearn-color-text-on-default-background);\n",
       "  flex-grow: 1;\n",
       "}\n",
       "\n",
       "#sk-container-id-1 div.sk-parallel {\n",
       "  display: flex;\n",
       "  align-items: stretch;\n",
       "  justify-content: center;\n",
       "  background-color: var(--sklearn-color-background);\n",
       "  position: relative;\n",
       "}\n",
       "\n",
       "#sk-container-id-1 div.sk-parallel-item {\n",
       "  display: flex;\n",
       "  flex-direction: column;\n",
       "}\n",
       "\n",
       "#sk-container-id-1 div.sk-parallel-item:first-child::after {\n",
       "  align-self: flex-end;\n",
       "  width: 50%;\n",
       "}\n",
       "\n",
       "#sk-container-id-1 div.sk-parallel-item:last-child::after {\n",
       "  align-self: flex-start;\n",
       "  width: 50%;\n",
       "}\n",
       "\n",
       "#sk-container-id-1 div.sk-parallel-item:only-child::after {\n",
       "  width: 0;\n",
       "}\n",
       "\n",
       "/* Serial-specific style estimator block */\n",
       "\n",
       "#sk-container-id-1 div.sk-serial {\n",
       "  display: flex;\n",
       "  flex-direction: column;\n",
       "  align-items: center;\n",
       "  background-color: var(--sklearn-color-background);\n",
       "  padding-right: 1em;\n",
       "  padding-left: 1em;\n",
       "}\n",
       "\n",
       "\n",
       "/* Toggleable style: style used for estimator/Pipeline/ColumnTransformer box that is\n",
       "clickable and can be expanded/collapsed.\n",
       "- Pipeline and ColumnTransformer use this feature and define the default style\n",
       "- Estimators will overwrite some part of the style using the `sk-estimator` class\n",
       "*/\n",
       "\n",
       "/* Pipeline and ColumnTransformer style (default) */\n",
       "\n",
       "#sk-container-id-1 div.sk-toggleable {\n",
       "  /* Default theme specific background. It is overwritten whether we have a\n",
       "  specific estimator or a Pipeline/ColumnTransformer */\n",
       "  background-color: var(--sklearn-color-background);\n",
       "}\n",
       "\n",
       "/* Toggleable label */\n",
       "#sk-container-id-1 label.sk-toggleable__label {\n",
       "  cursor: pointer;\n",
       "  display: block;\n",
       "  width: 100%;\n",
       "  margin-bottom: 0;\n",
       "  padding: 0.5em;\n",
       "  box-sizing: border-box;\n",
       "  text-align: center;\n",
       "}\n",
       "\n",
       "#sk-container-id-1 label.sk-toggleable__label-arrow:before {\n",
       "  /* Arrow on the left of the label */\n",
       "  content: \"▸\";\n",
       "  float: left;\n",
       "  margin-right: 0.25em;\n",
       "  color: var(--sklearn-color-icon);\n",
       "}\n",
       "\n",
       "#sk-container-id-1 label.sk-toggleable__label-arrow:hover:before {\n",
       "  color: var(--sklearn-color-text);\n",
       "}\n",
       "\n",
       "/* Toggleable content - dropdown */\n",
       "\n",
       "#sk-container-id-1 div.sk-toggleable__content {\n",
       "  max-height: 0;\n",
       "  max-width: 0;\n",
       "  overflow: hidden;\n",
       "  text-align: left;\n",
       "  /* unfitted */\n",
       "  background-color: var(--sklearn-color-unfitted-level-0);\n",
       "}\n",
       "\n",
       "#sk-container-id-1 div.sk-toggleable__content.fitted {\n",
       "  /* fitted */\n",
       "  background-color: var(--sklearn-color-fitted-level-0);\n",
       "}\n",
       "\n",
       "#sk-container-id-1 div.sk-toggleable__content pre {\n",
       "  margin: 0.2em;\n",
       "  border-radius: 0.25em;\n",
       "  color: var(--sklearn-color-text);\n",
       "  /* unfitted */\n",
       "  background-color: var(--sklearn-color-unfitted-level-0);\n",
       "}\n",
       "\n",
       "#sk-container-id-1 div.sk-toggleable__content.fitted pre {\n",
       "  /* unfitted */\n",
       "  background-color: var(--sklearn-color-fitted-level-0);\n",
       "}\n",
       "\n",
       "#sk-container-id-1 input.sk-toggleable__control:checked~div.sk-toggleable__content {\n",
       "  /* Expand drop-down */\n",
       "  max-height: 200px;\n",
       "  max-width: 100%;\n",
       "  overflow: auto;\n",
       "}\n",
       "\n",
       "#sk-container-id-1 input.sk-toggleable__control:checked~label.sk-toggleable__label-arrow:before {\n",
       "  content: \"▾\";\n",
       "}\n",
       "\n",
       "/* Pipeline/ColumnTransformer-specific style */\n",
       "\n",
       "#sk-container-id-1 div.sk-label input.sk-toggleable__control:checked~label.sk-toggleable__label {\n",
       "  color: var(--sklearn-color-text);\n",
       "  background-color: var(--sklearn-color-unfitted-level-2);\n",
       "}\n",
       "\n",
       "#sk-container-id-1 div.sk-label.fitted input.sk-toggleable__control:checked~label.sk-toggleable__label {\n",
       "  background-color: var(--sklearn-color-fitted-level-2);\n",
       "}\n",
       "\n",
       "/* Estimator-specific style */\n",
       "\n",
       "/* Colorize estimator box */\n",
       "#sk-container-id-1 div.sk-estimator input.sk-toggleable__control:checked~label.sk-toggleable__label {\n",
       "  /* unfitted */\n",
       "  background-color: var(--sklearn-color-unfitted-level-2);\n",
       "}\n",
       "\n",
       "#sk-container-id-1 div.sk-estimator.fitted input.sk-toggleable__control:checked~label.sk-toggleable__label {\n",
       "  /* fitted */\n",
       "  background-color: var(--sklearn-color-fitted-level-2);\n",
       "}\n",
       "\n",
       "#sk-container-id-1 div.sk-label label.sk-toggleable__label,\n",
       "#sk-container-id-1 div.sk-label label {\n",
       "  /* The background is the default theme color */\n",
       "  color: var(--sklearn-color-text-on-default-background);\n",
       "}\n",
       "\n",
       "/* On hover, darken the color of the background */\n",
       "#sk-container-id-1 div.sk-label:hover label.sk-toggleable__label {\n",
       "  color: var(--sklearn-color-text);\n",
       "  background-color: var(--sklearn-color-unfitted-level-2);\n",
       "}\n",
       "\n",
       "/* Label box, darken color on hover, fitted */\n",
       "#sk-container-id-1 div.sk-label.fitted:hover label.sk-toggleable__label.fitted {\n",
       "  color: var(--sklearn-color-text);\n",
       "  background-color: var(--sklearn-color-fitted-level-2);\n",
       "}\n",
       "\n",
       "/* Estimator label */\n",
       "\n",
       "#sk-container-id-1 div.sk-label label {\n",
       "  font-family: monospace;\n",
       "  font-weight: bold;\n",
       "  display: inline-block;\n",
       "  line-height: 1.2em;\n",
       "}\n",
       "\n",
       "#sk-container-id-1 div.sk-label-container {\n",
       "  text-align: center;\n",
       "}\n",
       "\n",
       "/* Estimator-specific */\n",
       "#sk-container-id-1 div.sk-estimator {\n",
       "  font-family: monospace;\n",
       "  border: 1px dotted var(--sklearn-color-border-box);\n",
       "  border-radius: 0.25em;\n",
       "  box-sizing: border-box;\n",
       "  margin-bottom: 0.5em;\n",
       "  /* unfitted */\n",
       "  background-color: var(--sklearn-color-unfitted-level-0);\n",
       "}\n",
       "\n",
       "#sk-container-id-1 div.sk-estimator.fitted {\n",
       "  /* fitted */\n",
       "  background-color: var(--sklearn-color-fitted-level-0);\n",
       "}\n",
       "\n",
       "/* on hover */\n",
       "#sk-container-id-1 div.sk-estimator:hover {\n",
       "  /* unfitted */\n",
       "  background-color: var(--sklearn-color-unfitted-level-2);\n",
       "}\n",
       "\n",
       "#sk-container-id-1 div.sk-estimator.fitted:hover {\n",
       "  /* fitted */\n",
       "  background-color: var(--sklearn-color-fitted-level-2);\n",
       "}\n",
       "\n",
       "/* Specification for estimator info (e.g. \"i\" and \"?\") */\n",
       "\n",
       "/* Common style for \"i\" and \"?\" */\n",
       "\n",
       ".sk-estimator-doc-link,\n",
       "a:link.sk-estimator-doc-link,\n",
       "a:visited.sk-estimator-doc-link {\n",
       "  float: right;\n",
       "  font-size: smaller;\n",
       "  line-height: 1em;\n",
       "  font-family: monospace;\n",
       "  background-color: var(--sklearn-color-background);\n",
       "  border-radius: 1em;\n",
       "  height: 1em;\n",
       "  width: 1em;\n",
       "  text-decoration: none !important;\n",
       "  margin-left: 1ex;\n",
       "  /* unfitted */\n",
       "  border: var(--sklearn-color-unfitted-level-1) 1pt solid;\n",
       "  color: var(--sklearn-color-unfitted-level-1);\n",
       "}\n",
       "\n",
       ".sk-estimator-doc-link.fitted,\n",
       "a:link.sk-estimator-doc-link.fitted,\n",
       "a:visited.sk-estimator-doc-link.fitted {\n",
       "  /* fitted */\n",
       "  border: var(--sklearn-color-fitted-level-1) 1pt solid;\n",
       "  color: var(--sklearn-color-fitted-level-1);\n",
       "}\n",
       "\n",
       "/* On hover */\n",
       "div.sk-estimator:hover .sk-estimator-doc-link:hover,\n",
       ".sk-estimator-doc-link:hover,\n",
       "div.sk-label-container:hover .sk-estimator-doc-link:hover,\n",
       ".sk-estimator-doc-link:hover {\n",
       "  /* unfitted */\n",
       "  background-color: var(--sklearn-color-unfitted-level-3);\n",
       "  color: var(--sklearn-color-background);\n",
       "  text-decoration: none;\n",
       "}\n",
       "\n",
       "div.sk-estimator.fitted:hover .sk-estimator-doc-link.fitted:hover,\n",
       ".sk-estimator-doc-link.fitted:hover,\n",
       "div.sk-label-container:hover .sk-estimator-doc-link.fitted:hover,\n",
       ".sk-estimator-doc-link.fitted:hover {\n",
       "  /* fitted */\n",
       "  background-color: var(--sklearn-color-fitted-level-3);\n",
       "  color: var(--sklearn-color-background);\n",
       "  text-decoration: none;\n",
       "}\n",
       "\n",
       "/* Span, style for the box shown on hovering the info icon */\n",
       ".sk-estimator-doc-link span {\n",
       "  display: none;\n",
       "  z-index: 9999;\n",
       "  position: relative;\n",
       "  font-weight: normal;\n",
       "  right: .2ex;\n",
       "  padding: .5ex;\n",
       "  margin: .5ex;\n",
       "  width: min-content;\n",
       "  min-width: 20ex;\n",
       "  max-width: 50ex;\n",
       "  color: var(--sklearn-color-text);\n",
       "  box-shadow: 2pt 2pt 4pt #999;\n",
       "  /* unfitted */\n",
       "  background: var(--sklearn-color-unfitted-level-0);\n",
       "  border: .5pt solid var(--sklearn-color-unfitted-level-3);\n",
       "}\n",
       "\n",
       ".sk-estimator-doc-link.fitted span {\n",
       "  /* fitted */\n",
       "  background: var(--sklearn-color-fitted-level-0);\n",
       "  border: var(--sklearn-color-fitted-level-3);\n",
       "}\n",
       "\n",
       ".sk-estimator-doc-link:hover span {\n",
       "  display: block;\n",
       "}\n",
       "\n",
       "/* \"?\"-specific style due to the `<a>` HTML tag */\n",
       "\n",
       "#sk-container-id-1 a.estimator_doc_link {\n",
       "  float: right;\n",
       "  font-size: 1rem;\n",
       "  line-height: 1em;\n",
       "  font-family: monospace;\n",
       "  background-color: var(--sklearn-color-background);\n",
       "  border-radius: 1rem;\n",
       "  height: 1rem;\n",
       "  width: 1rem;\n",
       "  text-decoration: none;\n",
       "  /* unfitted */\n",
       "  color: var(--sklearn-color-unfitted-level-1);\n",
       "  border: var(--sklearn-color-unfitted-level-1) 1pt solid;\n",
       "}\n",
       "\n",
       "#sk-container-id-1 a.estimator_doc_link.fitted {\n",
       "  /* fitted */\n",
       "  border: var(--sklearn-color-fitted-level-1) 1pt solid;\n",
       "  color: var(--sklearn-color-fitted-level-1);\n",
       "}\n",
       "\n",
       "/* On hover */\n",
       "#sk-container-id-1 a.estimator_doc_link:hover {\n",
       "  /* unfitted */\n",
       "  background-color: var(--sklearn-color-unfitted-level-3);\n",
       "  color: var(--sklearn-color-background);\n",
       "  text-decoration: none;\n",
       "}\n",
       "\n",
       "#sk-container-id-1 a.estimator_doc_link.fitted:hover {\n",
       "  /* fitted */\n",
       "  background-color: var(--sklearn-color-fitted-level-3);\n",
       "}\n",
       "</style><div id=\"sk-container-id-1\" class=\"sk-top-container\"><div class=\"sk-text-repr-fallback\"><pre>Pipeline(memory=&#x27;/Users/vtysch/sklearn_cache&#x27;,\n",
       "         steps=[(&#x27;vectorizer&#x27;,\n",
       "                 TfidfVectorizer(max_features=250000, ngram_range=1,\n",
       "                                 stop_words=&#x27;english&#x27;)),\n",
       "                (&#x27;classifier&#x27;,\n",
       "                 LogisticRegression(class_weight=&#x27;balanced&#x27;,\n",
       "                                    penalty=&#x27;elasticnet&#x27;, random_state=42))],\n",
       "         verbose=True)</pre><b>In a Jupyter environment, please rerun this cell to show the HTML representation or trust the notebook. <br />On GitHub, the HTML representation is unable to render, please try loading this page with nbviewer.org.</b></div><div class=\"sk-container\" hidden><div class=\"sk-item sk-dashed-wrapped\"><div class=\"sk-label-container\"><div class=\"sk-label  sk-toggleable\"><input class=\"sk-toggleable__control sk-hidden--visually\" id=\"sk-estimator-id-1\" type=\"checkbox\" ><label for=\"sk-estimator-id-1\" class=\"sk-toggleable__label  sk-toggleable__label-arrow \">&nbsp;&nbsp;Pipeline<a class=\"sk-estimator-doc-link \" rel=\"noreferrer\" target=\"_blank\" href=\"https://scikit-learn.org/1.4/modules/generated/sklearn.pipeline.Pipeline.html\">?<span>Documentation for Pipeline</span></a><span class=\"sk-estimator-doc-link \">i<span>Not fitted</span></span></label><div class=\"sk-toggleable__content \"><pre>Pipeline(memory=&#x27;/Users/vtysch/sklearn_cache&#x27;,\n",
       "         steps=[(&#x27;vectorizer&#x27;,\n",
       "                 TfidfVectorizer(max_features=250000, ngram_range=1,\n",
       "                                 stop_words=&#x27;english&#x27;)),\n",
       "                (&#x27;classifier&#x27;,\n",
       "                 LogisticRegression(class_weight=&#x27;balanced&#x27;,\n",
       "                                    penalty=&#x27;elasticnet&#x27;, random_state=42))],\n",
       "         verbose=True)</pre></div> </div></div><div class=\"sk-serial\"><div class=\"sk-item\"><div class=\"sk-estimator  sk-toggleable\"><input class=\"sk-toggleable__control sk-hidden--visually\" id=\"sk-estimator-id-2\" type=\"checkbox\" ><label for=\"sk-estimator-id-2\" class=\"sk-toggleable__label  sk-toggleable__label-arrow \">&nbsp;TfidfVectorizer<a class=\"sk-estimator-doc-link \" rel=\"noreferrer\" target=\"_blank\" href=\"https://scikit-learn.org/1.4/modules/generated/sklearn.feature_extraction.text.TfidfVectorizer.html\">?<span>Documentation for TfidfVectorizer</span></a></label><div class=\"sk-toggleable__content \"><pre>TfidfVectorizer(max_features=250000, ngram_range=1, stop_words=&#x27;english&#x27;)</pre></div> </div></div><div class=\"sk-item\"><div class=\"sk-estimator  sk-toggleable\"><input class=\"sk-toggleable__control sk-hidden--visually\" id=\"sk-estimator-id-3\" type=\"checkbox\" ><label for=\"sk-estimator-id-3\" class=\"sk-toggleable__label  sk-toggleable__label-arrow \">&nbsp;LogisticRegression<a class=\"sk-estimator-doc-link \" rel=\"noreferrer\" target=\"_blank\" href=\"https://scikit-learn.org/1.4/modules/generated/sklearn.linear_model.LogisticRegression.html\">?<span>Documentation for LogisticRegression</span></a></label><div class=\"sk-toggleable__content \"><pre>LogisticRegression(class_weight=&#x27;balanced&#x27;, penalty=&#x27;elasticnet&#x27;,\n",
       "                   random_state=42)</pre></div> </div></div></div></div></div></div>"
      ],
      "text/plain": [
       "Pipeline(memory='/Users/vtysch/sklearn_cache',\n",
       "         steps=[('vectorizer',\n",
       "                 TfidfVectorizer(max_features=250000, ngram_range=1,\n",
       "                                 stop_words='english')),\n",
       "                ('classifier',\n",
       "                 LogisticRegression(class_weight='balanced',\n",
       "                                    penalty='elasticnet', random_state=42))],\n",
       "         verbose=True)"
      ]
     },
     "metadata": {},
     "output_type": "display_data"
    }
   ],
   "source": [
    "X, y = dataset['lyrics'], dataset['tag']\n",
    "X_train, X_test, y_train, y_test = train_test_split(X, y, test_size=0.33, random_state=42)\n",
    "\n",
    "vectorizer = TfidfVectorizer(stop_words='english', ngram_range=(1), max_features=200000)\n",
    "classifier = LogisticRegression(penalty='elasticnet', class_weight='balanced', random_state=42)\n",
    "\n",
    "pipe = Pipeline(steps=[(\"vectorizer\", vectorizer),\n",
    "                       (\"classifier\", classifier)],\n",
    "                memory='/Users/vtysch/sklearn_cache',\n",
    "                verbose=True\n",
    "               )\n",
    "\n",
    "set_config(display='diagram')\n",
    "display(pipe)"
   ]
  },
  {
   "cell_type": "code",
   "execution_count": null,
   "id": "b6b1fb49",
   "metadata": {},
   "outputs": [],
   "source": [
    "pipe.fit(X_train, y_train).score(X_test, y_test)"
   ]
  },
  {
   "cell_type": "code",
   "execution_count": null,
   "id": "d6fcb01d",
   "metadata": {},
   "outputs": [],
   "source": []
  }
 ],
 "metadata": {
  "kernelspec": {
   "display_name": "tfenv",
   "language": "python",
   "name": "tfenv"
  },
  "language_info": {
   "codemirror_mode": {
    "name": "ipython",
    "version": 3
   },
   "file_extension": ".py",
   "mimetype": "text/x-python",
   "name": "python",
   "nbconvert_exporter": "python",
   "pygments_lexer": "ipython3",
   "version": "3.9.16"
  }
 },
 "nbformat": 4,
 "nbformat_minor": 5
}
